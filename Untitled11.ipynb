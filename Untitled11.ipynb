{
 "cells": [
  {
   "cell_type": "code",
   "execution_count": 58,
   "id": "a4fe9670-e022-4a7b-8a4f-752cefa18855",
   "metadata": {},
   "outputs": [
    {
     "name": "stdout",
     "output_type": "stream",
     "text": [
      "Requirement already satisfied: pyspark in c:\\users\\tarun\\appdata\\local\\programs\\python\\python311\\lib\\site-packages (3.5.1)\n",
      "Requirement already satisfied: py4j==0.10.9.7 in c:\\users\\tarun\\appdata\\local\\programs\\python\\python311\\lib\\site-packages (from pyspark) (0.10.9.7)\n",
      "Requirement already satisfied: nltk in c:\\users\\tarun\\appdata\\local\\programs\\python\\python311\\lib\\site-packages (3.8.1)\n",
      "Requirement already satisfied: click in c:\\users\\tarun\\appdata\\local\\programs\\python\\python311\\lib\\site-packages (from nltk) (8.1.7)\n",
      "Requirement already satisfied: joblib in c:\\users\\tarun\\appdata\\local\\programs\\python\\python311\\lib\\site-packages (from nltk) (1.4.2)\n",
      "Requirement already satisfied: regex>=2021.8.3 in c:\\users\\tarun\\appdata\\local\\programs\\python\\python311\\lib\\site-packages (from nltk) (2024.5.15)\n",
      "Requirement already satisfied: tqdm in c:\\users\\tarun\\appdata\\local\\programs\\python\\python311\\lib\\site-packages (from nltk) (4.66.4)\n",
      "Requirement already satisfied: colorama in c:\\users\\tarun\\appdata\\local\\programs\\python\\python311\\lib\\site-packages (from click->nltk) (0.4.6)\n"
     ]
    }
   ],
   "source": [
    "!pip install pyspark\n",
    "!pip install nltk"
   ]
  },
  {
   "cell_type": "code",
   "execution_count": 59,
   "id": "8dadb925-6802-4229-8f09-dd3f32b0645f",
   "metadata": {},
   "outputs": [
    {
     "name": "stderr",
     "output_type": "stream",
     "text": [
      "[nltk_data] Downloading package vader_lexicon to\n",
      "[nltk_data]     C:\\Users\\tarun\\AppData\\Roaming\\nltk_data...\n",
      "[nltk_data]   Package vader_lexicon is already up-to-date!\n"
     ]
    }
   ],
   "source": [
    "from pyspark.sql import SparkSession\n",
    "import pyspark.sql.functions as F\n",
    "from pyspark.sql.types import StringType\n",
    "from pyspark.ml.feature import Tokenizer, StopWordsRemover, CountVectorizer,IDF\n",
    "from pyspark.ml.classification import LogisticRegression\n",
    "from pyspark.ml.evaluation import MulticlassClassificationEvaluator\n",
    "import nltk\n",
    "from nltk.sentiment import SentimentIntensityAnalyzer\n",
    "nltk.download('vader_lexicon')\n",
    "import re"
   ]
  },
  {
   "cell_type": "code",
   "execution_count": 60,
   "id": "8217deaf-6068-411f-a5ac-9da402f5197e",
   "metadata": {},
   "outputs": [],
   "source": [
    "spark=SparkSession.builder.appName('SentimentAnalysis').getOrCreate()"
   ]
  },
  {
   "cell_type": "code",
   "execution_count": 61,
   "id": "dc42e0be-d37b-4c7e-89d7-be5edbfda134",
   "metadata": {},
   "outputs": [],
   "source": [
    "data=spark.read.csv('ProjectTweets.csv')"
   ]
  },
  {
   "cell_type": "code",
   "execution_count": 62,
   "id": "5a3eda09-4a25-4795-9856-60c7be8ed390",
   "metadata": {},
   "outputs": [],
   "source": [
    "sdc=data.select('_c5')"
   ]
  },
  {
   "cell_type": "code",
   "execution_count": 63,
   "id": "5f76d049-5f9c-4868-83b5-1df7a9e06c3b",
   "metadata": {},
   "outputs": [],
   "source": [
    "def clean_data(dta):\n",
    "    dta=re.sub(r'http\\S+','',dta)\n",
    "    dta=re.sub(r'@\\w+','',dta)\n",
    "    dta=re.sub(r'#\\w+','',dta)\n",
    "    dta=re.sub(r'[^\\w\\s]','',dta)\n",
    "    dta=dta.lower()\n",
    "    return dta"
   ]
  },
  {
   "cell_type": "code",
   "execution_count": 64,
   "id": "7c908992-0f2a-4464-9013-b48bd7957025",
   "metadata": {},
   "outputs": [],
   "source": [
    "clean_data_udf=F.udf(clean_data)"
   ]
  },
  {
   "cell_type": "code",
   "execution_count": 65,
   "id": "1083e43e-a930-4008-9173-99b2ae65fdbd",
   "metadata": {},
   "outputs": [],
   "source": [
    "df=sdc.withColumn('cd',clean_data_udf(sdc['_c5']))"
   ]
  },
  {
   "cell_type": "code",
   "execution_count": 71,
   "id": "8c1ff9e1-ba37-4202-9715-615cc6f5cb90",
   "metadata": {},
   "outputs": [],
   "source": [
    "tokenizer=Tokenizer(inputCol='cd',outputCol='words')\n",
    "wdata=tokenizer.transform(df)"
   ]
  },
  {
   "cell_type": "code",
   "execution_count": 72,
   "id": "12aa7d59-606e-425e-8b96-2f44d3fad2ef",
   "metadata": {},
   "outputs": [],
   "source": [
    "remover=StopWordsRemover(inputCol='words',outputCol='nwords')\n",
    "fdata=remover.transform(wdata)"
   ]
  },
  {
   "cell_type": "code",
   "execution_count": 74,
   "id": "3f6c2d04-19b6-412e-a61c-1ba845823fa0",
   "metadata": {},
   "outputs": [],
   "source": [
    "sia=SentimentIntensityAnalyzer()"
   ]
  },
  {
   "cell_type": "code",
   "execution_count": 75,
   "id": "e2bcb21a-dc8c-4cf2-8fbb-a7eadff55534",
   "metadata": {},
   "outputs": [],
   "source": [
    "def analz(abc):\n",
    "    if abc is not None:\n",
    "        scores=sia.polarity_scores(abc)\n",
    "        if scores['compound']>=0.5:\n",
    "            return 'positive'\n",
    "        elif scores['compound']<=-0.5:\n",
    "            return 'negative'\n",
    "        else :\n",
    "            return 'neutral'"
   ]
  },
  {
   "cell_type": "code",
   "execution_count": 77,
   "id": "e5fc1dfb-d403-4976-aa38-b992136ab3d3",
   "metadata": {},
   "outputs": [],
   "source": [
    "analz_udf=udf(analz, StringType())"
   ]
  },
  {
   "cell_type": "code",
   "execution_count": 78,
   "id": "49b55955-871f-4cd2-9e2d-9adad5afd67c",
   "metadata": {},
   "outputs": [],
   "source": [
    "ds=df.withColumn('sentiment',analz_udf(df['cd']))"
   ]
  },
  {
   "cell_type": "code",
   "execution_count": 80,
   "id": "6834f879-15f7-48e2-aad0-4111e7cc937c",
   "metadata": {},
   "outputs": [
    {
     "data": {
      "text/plain": [
       "<bound method DataFrame.head of DataFrame[_c5: string, cd: string, sentiment: string]>"
      ]
     },
     "execution_count": 80,
     "metadata": {},
     "output_type": "execute_result"
    }
   ],
   "source": [
    "ds.head"
   ]
  },
  {
   "cell_type": "code",
   "execution_count": null,
   "id": "d41bcf2d-0c97-4aae-b241-3312f4ca1fbd",
   "metadata": {},
   "outputs": [],
   "source": []
  }
 ],
 "metadata": {
  "kernelspec": {
   "display_name": "Python 3 (ipykernel)",
   "language": "python",
   "name": "python3"
  },
  "language_info": {
   "codemirror_mode": {
    "name": "ipython",
    "version": 3
   },
   "file_extension": ".py",
   "mimetype": "text/x-python",
   "name": "python",
   "nbconvert_exporter": "python",
   "pygments_lexer": "ipython3",
   "version": "3.11.5"
  }
 },
 "nbformat": 4,
 "nbformat_minor": 5
}
