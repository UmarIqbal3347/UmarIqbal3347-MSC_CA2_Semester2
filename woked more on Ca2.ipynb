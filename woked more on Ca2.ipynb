{
 "cells": [
  {
   "cell_type": "code",
   "execution_count": 2,
   "id": "355c51f8",
   "metadata": {},
   "outputs": [],
   "source": [
    "import os\n",
    "os.environ[\"JAVA_HOME\"] = \"C:\\\\Program Files\\\\Java\\\\jdk-22\"\n"
   ]
  },
  {
   "cell_type": "code",
   "execution_count": 3,
   "id": "965f5ed4",
   "metadata": {},
   "outputs": [],
   "source": [
    "from pyspark.sql import SparkSession\n",
    "#os.environ[\"JAVA_HOME\"] = \"C:\\\\Program Files\\\\Java\\\\jdk-22\"\n",
    "#Create a Spark Session\n",
    "spark = SparkSession.builder.master(\"local[2]\").appName(\"Tweet Analysis\").config(\"spark.executor.memory\", \"2g\").config(\"spark.driver.memory\",\"2g\").config(\"spark.sql.shuffle.partitions\", \"50\").getOrCreate()\n",
    "#Now lets set log level to debug to see ore details\n",
    "spark.sparkContext.setLogLevel(\"DEBUG\")\n"
   ]
  },
  {
   "cell_type": "code",
   "execution_count": 9,
   "id": "8ec2b6b9",
   "metadata": {},
   "outputs": [
    {
     "name": "stdout",
     "output_type": "stream",
     "text": [
      "+-----+----------+--------------------+--------+---------------+--------------------+\n",
      "|index|        id|                date|    flag|           user|                text|\n",
      "+-----+----------+--------------------+--------+---------------+--------------------+\n",
      "|    0|1467810369|Mon Apr 06 22:19:...|NO_QUERY|_TheSpecialOne_|@switchfoot http:...|\n",
      "|    1|1467810672|Mon Apr 06 22:19:...|NO_QUERY|  scotthamilton|is upset that he ...|\n",
      "|    2|1467810917|Mon Apr 06 22:19:...|NO_QUERY|       mattycus|@Kenichan I dived...|\n",
      "|    3|1467811184|Mon Apr 06 22:19:...|NO_QUERY|        ElleCTF|my whole body fee...|\n",
      "|    4|1467811193|Mon Apr 06 22:19:...|NO_QUERY|         Karoli|@nationwideclass ...|\n",
      "+-----+----------+--------------------+--------+---------------+--------------------+\n",
      "only showing top 5 rows\n",
      "\n",
      "None\n"
     ]
    }
   ],
   "source": [
    "from pyspark.sql.types import StructType, StructField, StringType\n",
    "\n",
    "schema = StructType([\n",
    "    StructField(\"index\", StringType(), True),\n",
    "    StructField(\"id\", StringType(), True),\n",
    "    StructField(\"date\", StringType(), True),\n",
    "    StructField(\"flag\", StringType(), True),\n",
    "    StructField(\"user\", StringType(), True),\n",
    "    StructField(\"text\", StringType(), True)\n",
    "])\n",
    "df = spark.read.csv('ProjectTweets.csv', schema=schema, header=False)\n",
    "print(df.show(5))"
   ]
  },
  {
   "cell_type": "code",
   "execution_count": 10,
   "id": "da32a965",
   "metadata": {},
   "outputs": [
    {
     "name": "stdout",
     "output_type": "stream",
     "text": [
      "+---------------+-----+\n",
      "|           user|count|\n",
      "+---------------+-----+\n",
      "|           jsoo|   10|\n",
      "|     megan_rice|   15|\n",
      "|     LeeseEllen|    2|\n",
      "|  supersharayah|    2|\n",
      "|    lizzzzlemon|    4|\n",
      "|debbieseraphina|   27|\n",
      "|    themangoman|    2|\n",
      "|       stefanip|    1|\n",
      "|      dEnNy_333|    1|\n",
      "|        lisha_e|    2|\n",
      "|         LAbite|    4|\n",
      "| Meg_Andruschak|    1|\n",
      "|        Daniiej|    3|\n",
      "|     coryosborn|    1|\n",
      "|       cmsebest|    1|\n",
      "|         MeghTW|    1|\n",
      "|   candicebunny|    1|\n",
      "|stranger_danger|   14|\n",
      "|    kryptonsite|    9|\n",
      "|        caitd86|    1|\n",
      "+---------------+-----+\n",
      "only showing top 20 rows\n",
      "\n"
     ]
    }
   ],
   "source": [
    "from pyspark.sql.functions import col\n",
    "tweet_counts = df.groupBy(\"user\").count()\n",
    "tweet_counts.show()"
   ]
  },
  {
   "cell_type": "code",
   "execution_count": null,
   "id": "d0f2bea8",
   "metadata": {},
   "outputs": [],
   "source": []
  }
 ],
 "metadata": {
  "kernelspec": {
   "display_name": "Python 3 (ipykernel)",
   "language": "python",
   "name": "python3"
  },
  "language_info": {
   "codemirror_mode": {
    "name": "ipython",
    "version": 3
   },
   "file_extension": ".py",
   "mimetype": "text/x-python",
   "name": "python",
   "nbconvert_exporter": "python",
   "pygments_lexer": "ipython3",
   "version": "3.9.13"
  }
 },
 "nbformat": 4,
 "nbformat_minor": 5
}
