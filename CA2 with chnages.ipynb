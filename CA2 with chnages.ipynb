{
 "cells": [
  {
   "cell_type": "code",
   "execution_count": 205,
   "id": "a0947efe-6b5b-44fd-97b9-7eb4f847c6f9",
   "metadata": {},
   "outputs": [],
   "source": [
    "from pyspark.sql import SparkSession\n",
    "import pandas as pd\n",
    "from pyspark.sql.functions import col, to_timestamp, udf\n",
    "from pyspark.sql.types import StructType, StructField, StringType, LongType, DoubleType\n",
    "from nltk.sentiment.vader import SentimentIntensityAnalyzer\n",
    "from pymongo import MongoClient \n",
    "import matplotlib.pyplot as plt\n",
    "from keras.models import Sequential\n",
    "from keras.layers import LSTM, Dense\n",
    "from statsmodels.tsa.arima.model import ARIMA\n",
    "import time\n",
    "import nltk\n"
   ]
  },
  {
   "cell_type": "code",
   "execution_count": 206,
   "id": "5a79b9b0-4e7a-40a1-8569-a1d919a69f72",
   "metadata": {},
   "outputs": [],
   "source": [
    "spark = SparkSession.builder \\\n",
    "    .appName(\"Assignment\") \\\n",
    "    .getOrCreate()"
   ]
  },
  {
   "cell_type": "code",
   "execution_count": 207,
   "id": "2f3ff490-461a-47cc-9f19-9d14caaf1b83",
   "metadata": {},
   "outputs": [],
   "source": [
    "schema = StructType([\n",
    "    StructField(\"serial_no\", LongType(), True),\n",
    "    StructField(\"ids\", LongType(), True),\n",
    "    StructField(\"date\", StringType(), True),\n",
    "    StructField(\"flag\", StringType(), True),\n",
    "    StructField(\"user\", StringType(), True),\n",
    "    StructField(\"text\", StringType(), True)\n",
    "])"
   ]
  },
  {
   "cell_type": "code",
   "execution_count": 208,
   "id": "56574d2a-479f-4bee-82f8-b1c542d98315",
   "metadata": {},
   "outputs": [],
   "source": [
    "dataset = \"ProjectTweets.csv\"\n",
    "df = spark.read.csv(dataset, schema=schema, header=False)"
   ]
  },
  {
   "cell_type": "code",
   "execution_count": 209,
   "id": "de835fb0-fe73-47fa-bd1b-795d862c6dd4",
   "metadata": {},
   "outputs": [
    {
     "name": "stdout",
     "output_type": "stream",
     "text": [
      "+---------+----------+--------------------+--------+---------------+--------------------+\n",
      "|serial_no|       ids|                date|    flag|           user|                text|\n",
      "+---------+----------+--------------------+--------+---------------+--------------------+\n",
      "|        0|1467810369|Mon Apr 06 22:19:...|NO_QUERY|_TheSpecialOne_|@switchfoot http:...|\n",
      "|        1|1467810672|Mon Apr 06 22:19:...|NO_QUERY|  scotthamilton|is upset that he ...|\n",
      "|        2|1467810917|Mon Apr 06 22:19:...|NO_QUERY|       mattycus|@Kenichan I dived...|\n",
      "|        3|1467811184|Mon Apr 06 22:19:...|NO_QUERY|        ElleCTF|my whole body fee...|\n",
      "|        4|1467811193|Mon Apr 06 22:19:...|NO_QUERY|         Karoli|@nationwideclass ...|\n",
      "|        5|1467811372|Mon Apr 06 22:20:...|NO_QUERY|       joy_wolf|@Kwesidei not the...|\n",
      "|        6|1467811592|Mon Apr 06 22:20:...|NO_QUERY|        mybirch|         Need a hug |\n",
      "|        7|1467811594|Mon Apr 06 22:20:...|NO_QUERY|           coZZ|@LOLTrish hey  lo...|\n",
      "|        8|1467811795|Mon Apr 06 22:20:...|NO_QUERY|2Hood4Hollywood|@Tatiana_K nope t...|\n",
      "|        9|1467812025|Mon Apr 06 22:20:...|NO_QUERY|        mimismo|@twittera que me ...|\n",
      "|       10|1467812416|Mon Apr 06 22:20:...|NO_QUERY| erinx3leannexo|spring break in p...|\n",
      "|       11|1467812579|Mon Apr 06 22:20:...|NO_QUERY|   pardonlauren|I just re-pierced...|\n",
      "|       12|1467812723|Mon Apr 06 22:20:...|NO_QUERY|           TLeC|@caregiving I cou...|\n",
      "|       13|1467812771|Mon Apr 06 22:20:...|NO_QUERY|robrobbierobert|@octolinz16 It it...|\n",
      "|       14|1467812784|Mon Apr 06 22:20:...|NO_QUERY|    bayofwolves|@smarrison i woul...|\n",
      "|       15|1467812799|Mon Apr 06 22:20:...|NO_QUERY|     HairByJess|@iamjazzyfizzle I...|\n",
      "|       16|1467812964|Mon Apr 06 22:20:...|NO_QUERY| lovesongwriter|Hollis' death sce...|\n",
      "|       17|1467813137|Mon Apr 06 22:20:...|NO_QUERY|       armotley|about to file taxes |\n",
      "|       18|1467813579|Mon Apr 06 22:20:...|NO_QUERY|     starkissed|@LettyA ahh ive a...|\n",
      "|       19|1467813782|Mon Apr 06 22:20:...|NO_QUERY|      gi_gi_bee|@FakerPattyPattz ...|\n",
      "+---------+----------+--------------------+--------+---------------+--------------------+\n",
      "only showing top 20 rows\n",
      "\n"
     ]
    }
   ],
   "source": [
    "df.show()"
   ]
  },
  {
   "cell_type": "code",
   "execution_count": 210,
   "id": "0d552992-aedc-46cf-b953-c71b52792b09",
   "metadata": {},
   "outputs": [
    {
     "data": {
      "text/plain": [
       "[Row(serial_no=0, ids=1467810369, date='Mon Apr 06 22:19:45 PDT 2009', flag='NO_QUERY', user='_TheSpecialOne_', text=\"@switchfoot http://twitpic.com/2y1zl - Awww, that's a bummer.  You shoulda got David Carr of Third Day to do it. ;D\"),\n",
       " Row(serial_no=1, ids=1467810672, date='Mon Apr 06 22:19:49 PDT 2009', flag='NO_QUERY', user='scotthamilton', text=\"is upset that he can't update his Facebook by texting it... and might cry as a result  School today also. Blah!\"),\n",
       " Row(serial_no=2, ids=1467810917, date='Mon Apr 06 22:19:53 PDT 2009', flag='NO_QUERY', user='mattycus', text='@Kenichan I dived many times for the ball. Managed to save 50%  The rest go out of bounds'),\n",
       " Row(serial_no=3, ids=1467811184, date='Mon Apr 06 22:19:57 PDT 2009', flag='NO_QUERY', user='ElleCTF', text='my whole body feels itchy and like its on fire '),\n",
       " Row(serial_no=4, ids=1467811193, date='Mon Apr 06 22:19:57 PDT 2009', flag='NO_QUERY', user='Karoli', text=\"@nationwideclass no, it's not behaving at all. i'm mad. why am i here? because I can't see you all over there. \")]"
      ]
     },
     "execution_count": 210,
     "metadata": {},
     "output_type": "execute_result"
    }
   ],
   "source": [
    "df.head(5)"
   ]
  },
  {
   "cell_type": "code",
   "execution_count": 211,
   "id": "d5df960b-19ab-4d56-bf8b-5826fd00f32d",
   "metadata": {},
   "outputs": [],
   "source": [
    "df = df.drop(\"serial_no\")"
   ]
  },
  {
   "cell_type": "code",
   "execution_count": 212,
   "id": "d7440f56-3804-48e7-a996-90b22838c0ee",
   "metadata": {},
   "outputs": [
    {
     "name": "stdout",
     "output_type": "stream",
     "text": [
      "root\n",
      " |-- ids: long (nullable = true)\n",
      " |-- date: string (nullable = true)\n",
      " |-- flag: string (nullable = true)\n",
      " |-- user: string (nullable = true)\n",
      " |-- text: string (nullable = true)\n",
      "\n"
     ]
    }
   ],
   "source": [
    "df.printSchema()"
   ]
  },
  {
   "cell_type": "code",
   "execution_count": 213,
   "id": "5a0885e9-38d4-4e7f-93a4-383a66ea4f32",
   "metadata": {},
   "outputs": [],
   "source": [
    "spark.conf.set(\"spark.sql.legacy.timeParserPolicy\", \"LEGACY\")\n"
   ]
  },
  {
   "cell_type": "code",
   "execution_count": 214,
   "id": "e63e67d3-72f9-483b-a0fa-28899e8c9af8",
   "metadata": {},
   "outputs": [],
   "source": [
    "df = df.withColumn(\"date\", to_timestamp(col(\"date\"), \"EEE MMM dd HH:mm:ss\"))"
   ]
  },
  {
   "cell_type": "code",
   "execution_count": 215,
   "id": "8c28c39f-3538-4f9a-b31b-3f5fc377108d",
   "metadata": {},
   "outputs": [
    {
     "name": "stdout",
     "output_type": "stream",
     "text": [
      "+----------+-------------------+--------+---------------+--------------------+\n",
      "|       ids|               date|    flag|           user|                text|\n",
      "+----------+-------------------+--------+---------------+--------------------+\n",
      "|1467810369|1970-04-06 22:19:45|NO_QUERY|_TheSpecialOne_|@switchfoot http:...|\n",
      "|1467810672|1970-04-06 22:19:49|NO_QUERY|  scotthamilton|is upset that he ...|\n",
      "|1467810917|1970-04-06 22:19:53|NO_QUERY|       mattycus|@Kenichan I dived...|\n",
      "|1467811184|1970-04-06 22:19:57|NO_QUERY|        ElleCTF|my whole body fee...|\n",
      "|1467811193|1970-04-06 22:19:57|NO_QUERY|         Karoli|@nationwideclass ...|\n",
      "|1467811372|1970-04-06 22:20:00|NO_QUERY|       joy_wolf|@Kwesidei not the...|\n",
      "|1467811592|1970-04-06 22:20:03|NO_QUERY|        mybirch|         Need a hug |\n",
      "|1467811594|1970-04-06 22:20:03|NO_QUERY|           coZZ|@LOLTrish hey  lo...|\n",
      "|1467811795|1970-04-06 22:20:05|NO_QUERY|2Hood4Hollywood|@Tatiana_K nope t...|\n",
      "|1467812025|1970-04-06 22:20:09|NO_QUERY|        mimismo|@twittera que me ...|\n",
      "|1467812416|1970-04-06 22:20:16|NO_QUERY| erinx3leannexo|spring break in p...|\n",
      "|1467812579|1970-04-06 22:20:17|NO_QUERY|   pardonlauren|I just re-pierced...|\n",
      "|1467812723|1970-04-06 22:20:19|NO_QUERY|           TLeC|@caregiving I cou...|\n",
      "|1467812771|1970-04-06 22:20:19|NO_QUERY|robrobbierobert|@octolinz16 It it...|\n",
      "|1467812784|1970-04-06 22:20:20|NO_QUERY|    bayofwolves|@smarrison i woul...|\n",
      "|1467812799|1970-04-06 22:20:20|NO_QUERY|     HairByJess|@iamjazzyfizzle I...|\n",
      "|1467812964|1970-04-06 22:20:22|NO_QUERY| lovesongwriter|Hollis' death sce...|\n",
      "|1467813137|1970-04-06 22:20:25|NO_QUERY|       armotley|about to file taxes |\n",
      "|1467813579|1970-04-06 22:20:31|NO_QUERY|     starkissed|@LettyA ahh ive a...|\n",
      "|1467813782|1970-04-06 22:20:34|NO_QUERY|      gi_gi_bee|@FakerPattyPattz ...|\n",
      "+----------+-------------------+--------+---------------+--------------------+\n",
      "only showing top 20 rows\n",
      "\n"
     ]
    }
   ],
   "source": [
    "df.show()"
   ]
  },
  {
   "cell_type": "code",
   "execution_count": 216,
   "id": "dece687c-aae7-4fd1-a16e-e061e7323604",
   "metadata": {},
   "outputs": [],
   "source": [
    "df = df.drop(\"ids\", \"flag\", \"user\")"
   ]
  },
  {
   "cell_type": "code",
   "execution_count": 217,
   "id": "5a9607af-bb5b-406d-8919-dd4571d4ea41",
   "metadata": {},
   "outputs": [
    {
     "name": "stdout",
     "output_type": "stream",
     "text": [
      "+-------------------+--------------------+\n",
      "|               date|                text|\n",
      "+-------------------+--------------------+\n",
      "|1970-04-06 22:19:45|@switchfoot http:...|\n",
      "|1970-04-06 22:19:49|is upset that he ...|\n",
      "|1970-04-06 22:19:53|@Kenichan I dived...|\n",
      "|1970-04-06 22:19:57|my whole body fee...|\n",
      "|1970-04-06 22:19:57|@nationwideclass ...|\n",
      "|1970-04-06 22:20:00|@Kwesidei not the...|\n",
      "|1970-04-06 22:20:03|         Need a hug |\n",
      "|1970-04-06 22:20:03|@LOLTrish hey  lo...|\n",
      "|1970-04-06 22:20:05|@Tatiana_K nope t...|\n",
      "|1970-04-06 22:20:09|@twittera que me ...|\n",
      "|1970-04-06 22:20:16|spring break in p...|\n",
      "|1970-04-06 22:20:17|I just re-pierced...|\n",
      "|1970-04-06 22:20:19|@caregiving I cou...|\n",
      "|1970-04-06 22:20:19|@octolinz16 It it...|\n",
      "|1970-04-06 22:20:20|@smarrison i woul...|\n",
      "|1970-04-06 22:20:20|@iamjazzyfizzle I...|\n",
      "|1970-04-06 22:20:22|Hollis' death sce...|\n",
      "|1970-04-06 22:20:25|about to file taxes |\n",
      "|1970-04-06 22:20:31|@LettyA ahh ive a...|\n",
      "|1970-04-06 22:20:34|@FakerPattyPattz ...|\n",
      "+-------------------+--------------------+\n",
      "only showing top 20 rows\n",
      "\n"
     ]
    }
   ],
   "source": [
    "df.show()"
   ]
  },
  {
   "cell_type": "code",
   "execution_count": 218,
   "id": "1f8bbc4b-a032-4ec1-82fc-80de9020b954",
   "metadata": {},
   "outputs": [
    {
     "data": {
      "text/plain": [
       "[Row(date=datetime.datetime(1970, 4, 6, 22, 19, 45), text=\"@switchfoot http://twitpic.com/2y1zl - Awww, that's a bummer.  You shoulda got David Carr of Third Day to do it. ;D\"),\n",
       " Row(date=datetime.datetime(1970, 4, 6, 22, 19, 49), text=\"is upset that he can't update his Facebook by texting it... and might cry as a result  School today also. Blah!\"),\n",
       " Row(date=datetime.datetime(1970, 4, 6, 22, 19, 53), text='@Kenichan I dived many times for the ball. Managed to save 50%  The rest go out of bounds'),\n",
       " Row(date=datetime.datetime(1970, 4, 6, 22, 19, 57), text='my whole body feels itchy and like its on fire '),\n",
       " Row(date=datetime.datetime(1970, 4, 6, 22, 19, 57), text=\"@nationwideclass no, it's not behaving at all. i'm mad. why am i here? because I can't see you all over there. \")]"
      ]
     },
     "execution_count": 218,
     "metadata": {},
     "output_type": "execute_result"
    }
   ],
   "source": [
    "df.head(5)"
   ]
  },
  {
   "cell_type": "code",
   "execution_count": 219,
   "id": "306f3f9b-8fb1-4b73-864a-32d98a1fa749",
   "metadata": {},
   "outputs": [],
   "source": [
    "# Defining functions for storage time comparison\n",
    "def store_data_in_spark_sql(df):\n",
    "    start_time_sql = time.time()\n",
    "    df.createOrReplaceTempView(\"tweets\")\n",
    "    end_time_sql = time.time()\n",
    "    return end_time_sql - start_time_sql"
   ]
  },
  {
   "cell_type": "code",
   "execution_count": 220,
   "id": "300731c3-6cd1-4075-8f59-cb4f890d0d4e",
   "metadata": {},
   "outputs": [
    {
     "name": "stdout",
     "output_type": "stream",
     "text": [
      "MongoDB is running.\n"
     ]
    }
   ],
   "source": [
    "try:\n",
    "    client = MongoClient('localhost', 27017)\n",
    "    db = client.admin\n",
    "    server_status = db.command(\"serverStatus\")\n",
    "    print(\"MongoDB is running.\")\n",
    "except Exception as e:\n",
    "    print(\"MongoDB is not running or cannot be accessed:\", e)"
   ]
  },
  {
   "cell_type": "code",
   "execution_count": 221,
   "id": "f181c868-4155-409e-a880-5c5a3707c253",
   "metadata": {},
   "outputs": [],
   "source": [
    "def store_data_in_mongodb(df):\n",
    "    start_time_mongodb = time.time()\n",
    "    client = MongoClient('localhost', 27017)\n",
    "    db = client['twitter_db']\n",
    "    collection = db['twitter_collection']\n",
    "    pandas_df = df.toPandas()\n",
    "    data_dict = pandas_df.to_dict(orient='records')\n",
    "    \n",
    "    collection.insert_many(data_dict)\n",
    "    end_time_mongodb = time.time()\n",
    "    return end_time_mongodb - start_time_mongodb"
   ]
  },
  {
   "cell_type": "code",
   "execution_count": 222,
   "id": "2f4701f0-1aa4-428b-9ef4-111b632e4d7d",
   "metadata": {},
   "outputs": [],
   "source": [
    "time_spark_sql = store_data_in_spark_sql(df)"
   ]
  },
  {
   "cell_type": "code",
   "execution_count": 223,
   "id": "8fa148cd-2b8f-4931-98d2-3356d3589678",
   "metadata": {},
   "outputs": [],
   "source": [
    "time_mongodb = store_data_in_mongodb(df)"
   ]
  },
  {
   "cell_type": "code",
   "execution_count": 224,
   "id": "b927fb88-9825-40c3-8d12-9befe15509a5",
   "metadata": {},
   "outputs": [
    {
     "name": "stdout",
     "output_type": "stream",
     "text": [
      "Time taken to store data in Spark SQL: 0.005994558334350586 seconds\n"
     ]
    }
   ],
   "source": [
    "print(\"Time taken to store data in Spark SQL:\", time_spark_sql, \"seconds\")"
   ]
  },
  {
   "cell_type": "code",
   "execution_count": 225,
   "id": "4dce2822-83b8-4ef3-addd-658e662b3fe4",
   "metadata": {},
   "outputs": [
    {
     "name": "stdout",
     "output_type": "stream",
     "text": [
      "Time taken to store data in MongoDB: 80.25701999664307 seconds\n"
     ]
    }
   ],
   "source": [
    "print(\"Time taken to store data in MongoDB:\", time_mongodb, \"seconds\")"
   ]
  },
  {
   "cell_type": "code",
   "execution_count": 226,
   "id": "758933db-2ab1-4569-99e4-8bf0c3a47e06",
   "metadata": {},
   "outputs": [],
   "source": [
    "df1 = df"
   ]
  },
  {
   "cell_type": "code",
   "execution_count": 227,
   "id": "8f7b62f9-2e7c-454e-8972-b265072e3f0a",
   "metadata": {},
   "outputs": [
    {
     "name": "stdout",
     "output_type": "stream",
     "text": [
      "+-------------------+--------------------+\n",
      "|               date|                text|\n",
      "+-------------------+--------------------+\n",
      "|1970-04-06 22:19:45|@switchfoot http:...|\n",
      "|1970-04-06 22:19:49|is upset that he ...|\n",
      "|1970-04-06 22:19:53|@Kenichan I dived...|\n",
      "|1970-04-06 22:19:57|my whole body fee...|\n",
      "|1970-04-06 22:19:57|@nationwideclass ...|\n",
      "|1970-04-06 22:20:00|@Kwesidei not the...|\n",
      "|1970-04-06 22:20:03|         Need a hug |\n",
      "|1970-04-06 22:20:03|@LOLTrish hey  lo...|\n",
      "|1970-04-06 22:20:05|@Tatiana_K nope t...|\n",
      "|1970-04-06 22:20:09|@twittera que me ...|\n",
      "|1970-04-06 22:20:16|spring break in p...|\n",
      "|1970-04-06 22:20:17|I just re-pierced...|\n",
      "|1970-04-06 22:20:19|@caregiving I cou...|\n",
      "|1970-04-06 22:20:19|@octolinz16 It it...|\n",
      "|1970-04-06 22:20:20|@smarrison i woul...|\n",
      "|1970-04-06 22:20:20|@iamjazzyfizzle I...|\n",
      "|1970-04-06 22:20:22|Hollis' death sce...|\n",
      "|1970-04-06 22:20:25|about to file taxes |\n",
      "|1970-04-06 22:20:31|@LettyA ahh ive a...|\n",
      "|1970-04-06 22:20:34|@FakerPattyPattz ...|\n",
      "+-------------------+--------------------+\n",
      "only showing top 20 rows\n",
      "\n"
     ]
    }
   ],
   "source": [
    "df.show()"
   ]
  },
  {
   "cell_type": "code",
   "execution_count": 228,
   "id": "672eb7eb-0a5c-4a32-b1e8-6139d35ebed3",
   "metadata": {},
   "outputs": [],
   "source": [
    "analyzer = SentimentIntensityAnalyzer()"
   ]
  },
  {
   "cell_type": "code",
   "execution_count": 229,
   "id": "4bee9d49-ac6d-485f-a474-e8a181d9df08",
   "metadata": {},
   "outputs": [],
   "source": [
    "def get_sentiment(text):\n",
    "    sentiment_score = analyzer.polarity_scores(text)\n",
    "    return 'positive' if sentiment_score['compound'] >= 0 else 'negative'\n"
   ]
  },
  {
   "cell_type": "code",
   "execution_count": 230,
   "id": "5c882033-9597-4f36-b8ec-bbea25c21976",
   "metadata": {},
   "outputs": [],
   "source": [
    "sentiment_udf = udf(lambda text: get_sentiment(text), StringType())\n",
    "df = df.withColumn(\"sentiment\", sentiment_udf(df[\"text\"]))\n"
   ]
  },
  {
   "cell_type": "code",
   "execution_count": null,
   "id": "1363eb4d-857a-49aa-9754-cb801c3eb45e",
   "metadata": {},
   "outputs": [],
   "source": []
  }
 ],
 "metadata": {
  "kernelspec": {
   "display_name": "Python 3 (ipykernel)",
   "language": "python",
   "name": "python3"
  },
  "language_info": {
   "codemirror_mode": {
    "name": "ipython",
    "version": 3
   },
   "file_extension": ".py",
   "mimetype": "text/x-python",
   "name": "python",
   "nbconvert_exporter": "python",
   "pygments_lexer": "ipython3",
   "version": "3.11.4"
  }
 },
 "nbformat": 4,
 "nbformat_minor": 5
}
